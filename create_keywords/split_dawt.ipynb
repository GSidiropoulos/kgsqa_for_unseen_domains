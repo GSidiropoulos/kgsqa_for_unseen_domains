{
 "cells": [
  {
   "cell_type": "code",
   "execution_count": null,
   "metadata": {},
   "outputs": [],
   "source": [
    "import gc\n",
    "import gzip \n",
    "import json\n",
    "import math\n",
    "import numpy as np\n",
    "import pandas as pd\n",
    "import pickle\n",
    "import time"
   ]
  },
  {
   "cell_type": "markdown",
   "metadata": {},
   "source": [
    "## Split Wikipedia files to more sub-files"
   ]
  },
  {
   "cell_type": "markdown",
   "metadata": {},
   "source": [
    "Part 00 lines: 1378917\n",
    "Part 01 lines: 1380085\n",
    "Part 02 lines: 1384443\n",
    "Part 03 lines: 1160277"
   ]
  },
  {
   "cell_type": "code",
   "execution_count": null,
   "metadata": {},
   "outputs": [],
   "source": [
    "config = dict()\n",
    "config[\"part00\"]=[int(1378917/40),\"../data/DAWT/wiki_annotations_json_en_part_00\",\"../data/DAWT/part00/split\"]\n",
    "config[\"part01\"]=[int(1380085/40),\"../data/DAWT/wiki_annotations_json_en_part_01\",\"../data/DAWT/part01/split\"]\n",
    "config[\"part02\"]=[int(1384443/40),\"../data/DAWT/wiki_annotations_json_en_part_02\",\"../data/DAWT/part02/split\"]\n",
    "config[\"part03\"]=[int(1160277/40),\"../data/DAWT/wiki_annotations_json_en_part_03\",\"../data/DAWT/part03/split\"]"
   ]
  },
  {
   "cell_type": "markdown",
   "metadata": {},
   "source": [
    "Run the following cell for every DAWT part folder (e.g. part00, part01, part02, and part03)."
   ]
  },
  {
   "cell_type": "code",
   "execution_count": null,
   "metadata": {
    "scrolled": true
   },
   "outputs": [],
   "source": [
    "for part, par in config.items():\n",
    "    print(\"------\"+part+\"------\")\n",
    "    \n",
    "    path = par[1]\n",
    "    split_length = par[0]\n",
    "    num_of_splits = 40\n",
    "    current_split = 1\n",
    "\n",
    "    with open(path) as fin:\n",
    "        fout = par[2]\n",
    "        lines = ''  # []\n",
    "        start_time = time.time()\n",
    " \n",
    "        # loop over the input_file and append the lines in a list\n",
    "        for i, line in enumerate(fin):\n",
    "            lines += line\n",
    "            # lines.append(line)\n",
    "            if (i + 1) % split_length == 0 and current_split < num_of_splits:\n",
    "                # pickle the list after split length steps\n",
    "                with open(fout + \"_\" + str(int(i / (split_length - 1))), 'w') as f2:\n",
    "                    f2.write(lines)\n",
    "                    # pickle.dump(lines, f2)\n",
    "\n",
    "                print(\"Split at \" + str(i + 1) + \" lines\")\n",
    "                lines = ''\n",
    "                current_split += 1\n",
    "\n",
    "                elapsed_time = time.time() - start_time\n",
    "                print(elapsed_time)\n",
    "        with open(fout + \"_\" + str(int(i / (split_length - 1))), 'w') as f2:\n",
    "            f2.write(lines)\n",
    "            print(\"Split at \" + str(i + 1) + \" lines\")\n",
    "\n",
    "    elapsed_time = time.time() - start_time\n",
    "    print(elapsed_time)"
   ]
  },
  {
   "cell_type": "markdown",
   "metadata": {},
   "source": [
    "#### Replace some of the generated files with preprocessed ones"
   ]
  },
  {
   "cell_type": "code",
   "execution_count": null,
   "metadata": {},
   "outputs": [],
   "source": [
    "import wget"
   ]
  },
  {
   "cell_type": "code",
   "execution_count": null,
   "metadata": {},
   "outputs": [],
   "source": [
    "# part 00\n",
    "wget.download(\"https://surfdrive.surf.nl/files/index.php/s/hiNeHPTuFZ3HtEp/download?path=%2Fkgsqa_for_unseen_domains%2FDAWT%2Fpart00&files=split_40\",\n",
    "              out=\"../data/DAWT/part00/\")\n",
    "\n",
    "# part 01\n",
    "wget.download(\"https://surfdrive.surf.nl/files/index.php/s/hiNeHPTuFZ3HtEp/download?path=%2Fkgsqa_for_unseen_domains%2FDAWT%2Fpart01&files=split_1\",\n",
    "              out=\"../data/DAWT/part01/\")\n",
    "\n",
    "wget.download(\"https://surfdrive.surf.nl/files/index.php/s/hiNeHPTuFZ3HtEp/download?path=%2Fkgsqa_for_unseen_domains%2FDAWT%2Fpart01&files=split_40\",\n",
    "              out=\"../data/DAWT/part01/\")\n",
    "\n",
    "# part 02\n",
    "wget.download(\"https://surfdrive.surf.nl/files/index.php/s/hiNeHPTuFZ3HtEp/download?path=%2Fkgsqa_for_unseen_domains%2FDAWT%2Fpart02&files=split_1\",\n",
    "              out=\"../data/DAWT/part02/\")\n",
    "\n",
    "wget.download(\"https://surfdrive.surf.nl/files/index.php/s/hiNeHPTuFZ3HtEp/download?path=%2Fkgsqa_for_unseen_domains%2FDAWT%2Fpart02&files=split_40\",\n",
    "              out=\"../data/DAWT/part02/\")\n",
    "\n",
    "# part 03\n",
    "wget.download(\"https://surfdrive.surf.nl/files/index.php/s/hiNeHPTuFZ3HtEp/download?path=%2Fkgsqa_for_unseen_domains%2FDAWT%2Fpart03&files=split_1\",\n",
    "              out=\"../data/DAWT/part03/\")\n"
   ]
  },
  {
   "cell_type": "code",
   "execution_count": null,
   "metadata": {},
   "outputs": [],
   "source": [
    "wget.download(\"https://surfdrive.surf.nl/files/index.php/s/hiNeHPTuFZ3HtEp/download?path=%2Fkgsqa_for_unseen_domains%2FDAWT%2Fpart00&files=split_40\",\n",
    "              out=\"../data/DAWT/part00/\")"
   ]
  },
  {
   "cell_type": "code",
   "execution_count": null,
   "metadata": {},
   "outputs": [],
   "source": []
  }
 ],
 "metadata": {
  "kernelspec": {
   "display_name": "Python (akbc2)",
   "language": "python",
   "name": "akbc2"
  },
  "language_info": {
   "codemirror_mode": {
    "name": "ipython",
    "version": 3
   },
   "file_extension": ".py",
   "mimetype": "text/x-python",
   "name": "python",
   "nbconvert_exporter": "python",
   "pygments_lexer": "ipython3",
   "version": "3.6.10"
  }
 },
 "nbformat": 4,
 "nbformat_minor": 4
}
